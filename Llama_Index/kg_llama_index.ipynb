{
 "cells": [
  {
   "cell_type": "code",
   "execution_count": 1,
   "metadata": {},
   "outputs": [],
   "source": [
    "import os\n",
    "from dotenv import load_dotenv\n",
    "load_dotenv()\n",
    "\n",
    "import nest_asyncio\n",
    "nest_asyncio.apply()\n",
    "\n",
    "MISTRAL_API_KEY = os.environ[\"MISTRAL_API_KEY\"]"
   ]
  },
  {
   "cell_type": "code",
   "execution_count": null,
   "metadata": {},
   "outputs": [],
   "source": [
    "from llama_index.llms.mistralai import MistralAI\n",
    "from llama_index.core import Settings\n",
    "\n",
    "# llm = AzureOpenAI(\n",
    "#     api_key=os.environ[\"AZURE_OPENAI_API_KEY\"],\n",
    "#     azure_endpoint=os.environ[\"AZURE_OPENAI_ENDPOINT\"],\n",
    "#     azure_deployment=os.environ[\"AZURE_OPENAI_DEPLOYMENT_NAME\"],\n",
    "#     api_version=os.environ[\"AZURE_OPENAI_API_VERSION\"],\n",
    "#     temperature=0.0,\n",
    "# )\n",
    "\n",
    "llm = MistralAI(temperature=0.0, model='mistral-small-latest')\n",
    "Settings.llm = llm\n",
    "\n",
    "# embed_model = MistralAIEmbedding()\n",
    "\n",
    "from llama_index.embeddings.huggingface import HuggingFaceEmbedding\n",
    "\n",
    "embed_model = HuggingFaceEmbedding(\n",
    "    model_name=\"BAAI/bge-small-en-v1.5\"\n",
    ")\n",
    "\n",
    "Settings.embed_model = embed_model"
   ]
  },
  {
   "cell_type": "code",
   "execution_count": 3,
   "metadata": {},
   "outputs": [],
   "source": [
    "from llama_index.graph_stores.neo4j import Neo4jPropertyGraphStore, Neo4jGraphStore\n",
    "\n",
    "URI = os.environ[\"NEO4J_URI\"]\n",
    "USERNAME = os.environ[\"NEO4J_USERNAME\"]\n",
    "PASSWORD = os.environ[\"NEO4J_PASSWORD\"]\n",
    "\n",
    "graph_store = Neo4jPropertyGraphStore(\n",
    "    username=USERNAME,\n",
    "    password=PASSWORD,\n",
    "    url=URI,\n",
    ")\n",
    "\n",
    "# graph_store = Neo4jGraphStore(\n",
    "#     username=USERNAME,\n",
    "#     password=PASSWORD,\n",
    "#     url=URI,\n",
    "# )"
   ]
  },
  {
   "cell_type": "code",
   "execution_count": 12,
   "metadata": {},
   "outputs": [],
   "source": [
    "from llama_index.core import SimpleDirectoryReader\n",
    "documents = SimpleDirectoryReader('md').load_data()"
   ]
  },
  {
   "cell_type": "code",
   "execution_count": 4,
   "metadata": {},
   "outputs": [],
   "source": [
    "from llama_index.core import PropertyGraphIndex, KnowledgeGraphIndex\n",
    "from llama_index.core.indices.property_graph import SchemaLLMPathExtractor, DynamicLLMPathExtractor, SimpleLLMPathExtractor\n",
    "\n",
    "# Extract graph from documents\n",
    "# index = PropertyGraphIndex.from_documents(\n",
    "#     documents,\n",
    "#     embed_model=embed_model,\n",
    "#     kg_extractors=[\n",
    "#         # SchemaLLMPathExtractor(\n",
    "#         #     llm=llm,\n",
    "#         #     # possible_entities=ENTITIES,\n",
    "#         #     # possible_relations=RELATIONS,\n",
    "#         #     # kg_validation_schema=VALIDATION_SCHEMA,\n",
    "#         # )\n",
    "#         # DynamicLLMPathExtractor(\n",
    "#         #     llm=llm,\n",
    "#         # )\n",
    "#         SimpleLLMPathExtractor(\n",
    "#             llm=llm,\n",
    "#         )\n",
    "#     ],\n",
    "#     property_graph_store=graph_store,\n",
    "#     show_progress=True,\n",
    "# )\n",
    "\n",
    "# from llama_index.core import StorageContext\n",
    "# storage_context = StorageContext.from_defaults(graph_store=graph_store)\n",
    "\n",
    "# index = KnowledgeGraphIndex.from_documents(\n",
    "#     documents,\n",
    "#     embed_model=embed_model,\n",
    "#     storage_context=storage_context,\n",
    "#     show_progress=True,\n",
    "# )\n",
    "\n",
    "# Create an index from the existing knowledge graph\n",
    "index = PropertyGraphIndex.from_existing(\n",
    "    property_graph_store=graph_store,\n",
    "    embed_model=embed_model,\n",
    ")"
   ]
  },
  {
   "cell_type": "code",
   "execution_count": 5,
   "metadata": {},
   "outputs": [
    {
     "name": "stdout",
     "output_type": "stream",
     "text": [
      "Champ -> Retenu -> Commerce de détail\n",
      "Commerce de détail -> Employant -> Salarié du commerce\n",
      "Commerce de détail -> Localisés dans -> Villes-centres\n",
      "Sections principales -> Présentent -> Effectifs totaux\n",
      "Tableau -> Montre -> Effectifs totaux\n",
      "Data -> Present -> Effectifs totaux\n",
      "Modèle développement appareil commercial -> S'étend -> Couronnes périurbaines\n",
      "Couronnes périurbaines -> Représentent -> 7% à 8% de l'appareil commercial national\n",
      "Couronnes périurbaines -> Densité commerciale -> Croissante\n",
      "Couronnes périurbaines -> Se situent -> Pôles de taille moyenne la plus faible\n",
      "Commerce -> Croissance -> Couronnes périurbaines\n",
      "Pôles secondaires -> Nombreux -> Couronnes périurbaines\n",
      "Densité -> Accrue -> Couronnes périurbaines\n",
      "Zones -> Être -> Couronnes périurbaines\n",
      "Commerce -> Atteint ses plus forts degrés de spécialisation -> Couronnes périurbaines\n",
      "Zones -> Occuper -> Couronnes périurbaines\n",
      "Pôles commerciaux secondaires -> Localisés -> Couronnes périurbaines\n",
      "Aire urbaine paris -> Concentre -> Près du quart des effectifs salariés du commerce\n",
      "Commerce dans les communes multipolarisées -> Crû -> Rythme proche du rythme national\n",
      "Révolution commerciale -> Associée à -> Apparition du commerce en grandes surfaces  discount\n",
      "Crédoc -> Has research -> L'évolution de la géographie du commerce en france\n",
      "L'évolution de la géographie du commerce en france -> Has department -> Dynamique des marchés\n",
      "L'évolution de la géographie du commerce en france -> Has authors -> Jamy libouton\n",
      "L'évolution de la géographie du commerce en france -> Has authors -> Philippe moati\n",
      "L'évolution de la géographie du commerce en france -> Has authors -> Laurent pouquet\n",
      "L'évolution de la géographie du commerce en france -> Has number -> Cahier de recherche n° 207\n",
      "L'évolution de la géographie du commerce en france -> Published in -> Novembre 2004\n"
     ]
    }
   ],
   "source": [
    "# Define retriever\n",
    "retriever = index.as_retriever(include_text=False)\n",
    "# results = retriever.retrieve(\"Concentration et Densité Commerciale\")\n",
    "results = retriever.retrieve(\"Quels sont les effectifs totaux du commerce de détail dans les couronnes périurbaines ?\")\n",
    "for record in results:\n",
    "    print(record.text)"
   ]
  },
  {
   "cell_type": "code",
   "execution_count": 6,
   "metadata": {},
   "outputs": [
    {
     "name": "stdout",
     "output_type": "stream",
     "text": [
      "Les effectifs totaux du commerce de détail dans les couronnes périurbaines étaient de 112 703 en 2002.\n"
     ]
    }
   ],
   "source": [
    "query_engine = index.as_query_engine(include_text=True)\n",
    "# response = query_engine.query(\"comment a évolué la densité commerciale? Réponds en français.\")\n",
    "response = query_engine.query(\"Quels sont les effectifs totaux du commerce de détail dans les couronnes périurbaines ?\")\n",
    "print(response)"
   ]
  }
 ],
 "metadata": {
  "kernelspec": {
   "display_name": "ai_processing_tool",
   "language": "python",
   "name": "python3"
  },
  "language_info": {
   "codemirror_mode": {
    "name": "ipython",
    "version": 3
   },
   "file_extension": ".py",
   "mimetype": "text/x-python",
   "name": "python",
   "nbconvert_exporter": "python",
   "pygments_lexer": "ipython3",
   "version": "3.11.11"
  }
 },
 "nbformat": 4,
 "nbformat_minor": 2
}
